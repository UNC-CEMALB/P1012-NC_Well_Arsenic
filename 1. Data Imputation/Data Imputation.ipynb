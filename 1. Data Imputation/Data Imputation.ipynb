{
 "cells": [
  {
   "cell_type": "code",
   "execution_count": 1,
   "id": "8dff2278",
   "metadata": {},
   "outputs": [
    {
     "name": "stderr",
     "output_type": "stream",
     "text": [
      "Loading required package: tmvtnorm\n",
      "\n",
      "Loading required package: mvtnorm\n",
      "\n",
      "Loading required package: Matrix\n",
      "\n",
      "Loading required package: stats4\n",
      "\n",
      "Loading required package: gmm\n",
      "\n",
      "Loading required package: sandwich\n",
      "\n",
      "Loading required package: norm\n",
      "\n",
      "This package has some major limitations\n",
      "(for example, it does not work reliably when\n",
      "the number of variables exceeds 30),\n",
      "and has been superseded by the norm2 package.\n",
      "\n",
      "Loading required package: pcaMethods\n",
      "\n",
      "Loading required package: Biobase\n",
      "\n",
      "Loading required package: BiocGenerics\n",
      "\n",
      "\n",
      "Attaching package: ‘BiocGenerics’\n",
      "\n",
      "\n",
      "The following objects are masked from ‘package:stats’:\n",
      "\n",
      "    IQR, mad, sd, var, xtabs\n",
      "\n",
      "\n",
      "The following objects are masked from ‘package:base’:\n",
      "\n",
      "    Filter, Find, Map, Position, Reduce, anyDuplicated, append,\n",
      "    as.data.frame, basename, cbind, colnames, dirname, do.call,\n",
      "    duplicated, eval, evalq, get, grep, grepl, intersect, is.unsorted,\n",
      "    lapply, mapply, match, mget, order, paste, pmax, pmax.int, pmin,\n",
      "    pmin.int, rank, rbind, rownames, sapply, setdiff, sort, table,\n",
      "    tapply, union, unique, unsplit, which.max, which.min\n",
      "\n",
      "\n",
      "Welcome to Bioconductor\n",
      "\n",
      "    Vignettes contain introductory material; view with\n",
      "    'browseVignettes()'. To cite Bioconductor, see\n",
      "    'citation(\"Biobase\")', and for packages 'citation(\"pkgname\")'.\n",
      "\n",
      "\n",
      "\n",
      "Attaching package: ‘pcaMethods’\n",
      "\n",
      "\n",
      "The following object is masked from ‘package:stats’:\n",
      "\n",
      "    loadings\n",
      "\n",
      "\n",
      "Loading required package: impute\n",
      "\n",
      "── \u001b[1mAttaching packages\u001b[22m ─────────────────────────────────────── tidyverse 1.3.2 ──\n",
      "\u001b[32m✔\u001b[39m \u001b[34mggplot2\u001b[39m 3.4.0      \u001b[32m✔\u001b[39m \u001b[34mpurrr  \u001b[39m 0.3.4 \n",
      "\u001b[32m✔\u001b[39m \u001b[34mtibble \u001b[39m 3.1.8      \u001b[32m✔\u001b[39m \u001b[34mdplyr  \u001b[39m 1.0.10\n",
      "\u001b[32m✔\u001b[39m \u001b[34mtidyr  \u001b[39m 1.2.1      \u001b[32m✔\u001b[39m \u001b[34mstringr\u001b[39m 1.4.1 \n",
      "\u001b[32m✔\u001b[39m \u001b[34mreadr  \u001b[39m 2.1.2      \u001b[32m✔\u001b[39m \u001b[34mforcats\u001b[39m 0.5.2 \n",
      "── \u001b[1mConflicts\u001b[22m ────────────────────────────────────────── tidyverse_conflicts() ──\n",
      "\u001b[31m✖\u001b[39m \u001b[34mggplot2\u001b[39m::\u001b[32mPosition()\u001b[39m masks \u001b[34mBiocGenerics\u001b[39m::Position(), \u001b[34mbase\u001b[39m::Position()\n",
      "\u001b[31m✖\u001b[39m \u001b[34mdplyr\u001b[39m::\u001b[32mcombine()\u001b[39m    masks \u001b[34mBiobase\u001b[39m::combine(), \u001b[34mBiocGenerics\u001b[39m::combine()\n",
      "\u001b[31m✖\u001b[39m \u001b[34mtidyr\u001b[39m::\u001b[32mexpand()\u001b[39m     masks \u001b[34mMatrix\u001b[39m::expand()\n",
      "\u001b[31m✖\u001b[39m \u001b[34mdplyr\u001b[39m::\u001b[32mfilter()\u001b[39m     masks \u001b[34mstats\u001b[39m::filter()\n",
      "\u001b[31m✖\u001b[39m \u001b[34mdplyr\u001b[39m::\u001b[32mlag()\u001b[39m        masks \u001b[34mstats\u001b[39m::lag()\n",
      "\u001b[31m✖\u001b[39m \u001b[34mtidyr\u001b[39m::\u001b[32mpack()\u001b[39m       masks \u001b[34mMatrix\u001b[39m::pack()\n",
      "\u001b[31m✖\u001b[39m \u001b[34mtidyr\u001b[39m::\u001b[32munpack()\u001b[39m     masks \u001b[34mMatrix\u001b[39m::unpack()\n",
      "Warning message:\n",
      "“Expecting numeric in H1895 / R1895C8: got 'NA'”\n",
      "Warning message:\n",
      "“Expecting numeric in H1896 / R1896C8: got 'NA'”\n",
      "Warning message:\n",
      "“Expecting numeric in H1897 / R1897C8: got 'NA'”\n",
      "Warning message in apply(well_df[, c(5, 7, 9, 11)], 2, as.numeric):\n",
      "“NAs introduced by coercion”\n",
      "Warning message in apply(well_df[, c(5, 7, 9, 11)], 2, as.numeric):\n",
      "“NAs introduced by coercion”\n",
      "Warning message in apply(well_df[, c(5, 7, 9, 11)], 2, as.numeric):\n",
      "“NAs introduced by coercion”\n",
      "Warning message in apply(well_df[, c(5, 7, 9, 11)], 2, as.numeric):\n",
      "“NAs introduced by coercion”\n"
     ]
    }
   ],
   "source": [
    "setwd('/Users/alexis/Library/CloudStorage/OneDrive-UniversityofNorthCarolinaatChapelHill/CEMALB_DataAnalysisPM/Projects/P1012. NC Well Arsenic/P1012.2. Analyses/P1012.2.1. Data Imputation')\n",
    "Output = ('/Users/alexis/Library/CloudStorage/OneDrive-UniversityofNorthCarolinaatChapelHill/CEMALB_DataAnalysisPM/Projects/P1012. NC Well Arsenic/P1012.2. Analyses/P1012.2.1. Data Imputation/Output')\n",
    "cur_date = \"051023\"\n",
    "\n",
    "library(missForest)\n",
    "library(imputeLCMD)\n",
    "library(readxl)\n",
    "library(openxlsx)\n",
    "library(tidyverse)\n",
    "\n",
    "# reading in file\n",
    "well_df = data.frame(read_excel(\"Input/Union_WellData_050623.xlsx\", sheet = 2))\n",
    "\n",
    "# converting some cols to numeric\n",
    "numeric_df = data.frame(apply(well_df[,c(5,7,9,11)], 2, as.numeric))\n",
    "recombined_df = cbind(well_df[,-c(5,7,9,11)], numeric_df)\n",
    "well_df = recombined_df[,c(1:4,9,5,10,6,11,7,12,8)]"
   ]
  },
  {
   "cell_type": "code",
   "execution_count": 2,
   "id": "efe801ed",
   "metadata": {},
   "outputs": [
    {
     "data": {
      "text/html": [
       "<table class=\"dataframe\">\n",
       "<caption>A data.frame: 6 × 12</caption>\n",
       "<thead>\n",
       "\t<tr><th></th><th scope=col>Tax_ID</th><th scope=col>Health_Dept_ID</th><th scope=col>Permit_No</th><th scope=col>Water_Sample_Date</th><th scope=col>Casing_Depth</th><th scope=col>Well_Depth</th><th scope=col>Static_Water_Depth</th><th scope=col>Flow_Rate</th><th scope=col>pH</th><th scope=col>Metal</th><th scope=col>Concentration</th><th scope=col>Detect_Concentration</th></tr>\n",
       "\t<tr><th></th><th scope=col>&lt;chr&gt;</th><th scope=col>&lt;dbl&gt;</th><th scope=col>&lt;chr&gt;</th><th scope=col>&lt;chr&gt;</th><th scope=col>&lt;dbl&gt;</th><th scope=col>&lt;dbl&gt;</th><th scope=col>&lt;dbl&gt;</th><th scope=col>&lt;dbl&gt;</th><th scope=col>&lt;dbl&gt;</th><th scope=col>&lt;chr&gt;</th><th scope=col>&lt;dbl&gt;</th><th scope=col>&lt;chr&gt;</th></tr>\n",
       "</thead>\n",
       "<tbody>\n",
       "\t<tr><th scope=row>1</th><td>1006004</td><td> 960</td><td>12-155</td><td>9/24/12 </td><td>52</td><td>165</td><td>41</td><td>60</td><td>7.7</td><td>Ar</td><td> NA</td><td>ND</td></tr>\n",
       "\t<tr><th scope=row>2</th><td>1006004</td><td> 960</td><td>12-155</td><td>9/24/12 </td><td>52</td><td>165</td><td>41</td><td>60</td><td>7.7</td><td>Mn</td><td>440</td><td>D </td></tr>\n",
       "\t<tr><th scope=row>3</th><td>1006004</td><td> 960</td><td>12-155</td><td>9/24/12 </td><td>52</td><td>165</td><td>41</td><td>60</td><td>7.7</td><td>Cr</td><td> NA</td><td>ND</td></tr>\n",
       "\t<tr><th scope=row>4</th><td>1024009</td><td>1803</td><td>15-177</td><td>12/17/15</td><td>40</td><td>445</td><td>42</td><td> 2</td><td>7.3</td><td>Ar</td><td> NA</td><td>ND</td></tr>\n",
       "\t<tr><th scope=row>5</th><td>1024009</td><td>1803</td><td>15-177</td><td>12/17/15</td><td>40</td><td>445</td><td>42</td><td> 2</td><td>7.3</td><td>Mn</td><td>690</td><td>D </td></tr>\n",
       "\t<tr><th scope=row>6</th><td>1024009</td><td>1803</td><td>15-177</td><td>12/17/15</td><td>40</td><td>445</td><td>42</td><td> 2</td><td>7.3</td><td>Cr</td><td> NA</td><td>ND</td></tr>\n",
       "</tbody>\n",
       "</table>\n"
      ],
      "text/latex": [
       "A data.frame: 6 × 12\n",
       "\\begin{tabular}{r|llllllllllll}\n",
       "  & Tax\\_ID & Health\\_Dept\\_ID & Permit\\_No & Water\\_Sample\\_Date & Casing\\_Depth & Well\\_Depth & Static\\_Water\\_Depth & Flow\\_Rate & pH & Metal & Concentration & Detect\\_Concentration\\\\\n",
       "  & <chr> & <dbl> & <chr> & <chr> & <dbl> & <dbl> & <dbl> & <dbl> & <dbl> & <chr> & <dbl> & <chr>\\\\\n",
       "\\hline\n",
       "\t1 & 1006004 &  960 & 12-155 & 9/24/12  & 52 & 165 & 41 & 60 & 7.7 & Ar &  NA & ND\\\\\n",
       "\t2 & 1006004 &  960 & 12-155 & 9/24/12  & 52 & 165 & 41 & 60 & 7.7 & Mn & 440 & D \\\\\n",
       "\t3 & 1006004 &  960 & 12-155 & 9/24/12  & 52 & 165 & 41 & 60 & 7.7 & Cr &  NA & ND\\\\\n",
       "\t4 & 1024009 & 1803 & 15-177 & 12/17/15 & 40 & 445 & 42 &  2 & 7.3 & Ar &  NA & ND\\\\\n",
       "\t5 & 1024009 & 1803 & 15-177 & 12/17/15 & 40 & 445 & 42 &  2 & 7.3 & Mn & 690 & D \\\\\n",
       "\t6 & 1024009 & 1803 & 15-177 & 12/17/15 & 40 & 445 & 42 &  2 & 7.3 & Cr &  NA & ND\\\\\n",
       "\\end{tabular}\n"
      ],
      "text/markdown": [
       "\n",
       "A data.frame: 6 × 12\n",
       "\n",
       "| <!--/--> | Tax_ID &lt;chr&gt; | Health_Dept_ID &lt;dbl&gt; | Permit_No &lt;chr&gt; | Water_Sample_Date &lt;chr&gt; | Casing_Depth &lt;dbl&gt; | Well_Depth &lt;dbl&gt; | Static_Water_Depth &lt;dbl&gt; | Flow_Rate &lt;dbl&gt; | pH &lt;dbl&gt; | Metal &lt;chr&gt; | Concentration &lt;dbl&gt; | Detect_Concentration &lt;chr&gt; |\n",
       "|---|---|---|---|---|---|---|---|---|---|---|---|---|\n",
       "| 1 | 1006004 |  960 | 12-155 | 9/24/12  | 52 | 165 | 41 | 60 | 7.7 | Ar |  NA | ND |\n",
       "| 2 | 1006004 |  960 | 12-155 | 9/24/12  | 52 | 165 | 41 | 60 | 7.7 | Mn | 440 | D  |\n",
       "| 3 | 1006004 |  960 | 12-155 | 9/24/12  | 52 | 165 | 41 | 60 | 7.7 | Cr |  NA | ND |\n",
       "| 4 | 1024009 | 1803 | 15-177 | 12/17/15 | 40 | 445 | 42 |  2 | 7.3 | Ar |  NA | ND |\n",
       "| 5 | 1024009 | 1803 | 15-177 | 12/17/15 | 40 | 445 | 42 |  2 | 7.3 | Mn | 690 | D  |\n",
       "| 6 | 1024009 | 1803 | 15-177 | 12/17/15 | 40 | 445 | 42 |  2 | 7.3 | Cr |  NA | ND |\n",
       "\n"
      ],
      "text/plain": [
       "  Tax_ID  Health_Dept_ID Permit_No Water_Sample_Date Casing_Depth Well_Depth\n",
       "1 1006004  960           12-155    9/24/12           52           165       \n",
       "2 1006004  960           12-155    9/24/12           52           165       \n",
       "3 1006004  960           12-155    9/24/12           52           165       \n",
       "4 1024009 1803           15-177    12/17/15          40           445       \n",
       "5 1024009 1803           15-177    12/17/15          40           445       \n",
       "6 1024009 1803           15-177    12/17/15          40           445       \n",
       "  Static_Water_Depth Flow_Rate pH  Metal Concentration Detect_Concentration\n",
       "1 41                 60        7.7 Ar     NA           ND                  \n",
       "2 41                 60        7.7 Mn    440           D                   \n",
       "3 41                 60        7.7 Cr     NA           ND                  \n",
       "4 42                  2        7.3 Ar     NA           ND                  \n",
       "5 42                  2        7.3 Mn    690           D                   \n",
       "6 42                  2        7.3 Cr     NA           ND                  "
      ]
     },
     "metadata": {},
     "output_type": "display_data"
    }
   ],
   "source": [
    "head(well_df)"
   ]
  },
  {
   "cell_type": "markdown",
   "id": "17b52b87",
   "metadata": {},
   "source": [
    "Imputing missing data. Random forest will be used to input casing depth, well depth, static water depth, flow rate, and pH. Quantile regression imputation of left-censored data (QRILC) will be used to impute each metal concentration.\n",
    "\n",
    "Typically background filters would be implemented for all data, but only the variable `Concentration` is missing a significant portion of data."
   ]
  },
  {
   "cell_type": "code",
   "execution_count": 3,
   "id": "66965d15",
   "metadata": {},
   "outputs": [],
   "source": [
    "# splitting the dataset based on the metal\n",
    "preimputed_df = well_df %>%\n",
    "    group_by(Metal) %>%\n",
    "    group_split()\n",
    "\n",
    "arsenic_df = preimputed_df[[1]]\n",
    "chromium_df = preimputed_df[[2]]\n",
    "manganese_df = preimputed_df[[3]]"
   ]
  },
  {
   "cell_type": "markdown",
   "id": "3c4abe21",
   "metadata": {},
   "source": [
    "# RF Imputation"
   ]
  },
  {
   "cell_type": "code",
   "execution_count": 4,
   "id": "c8528c5c",
   "metadata": {},
   "outputs": [
    {
     "data": {
      "text/html": [
       "<table class=\"dataframe\">\n",
       "<caption>A data.frame: 6 × 12</caption>\n",
       "<thead>\n",
       "\t<tr><th></th><th scope=col>Tax_ID</th><th scope=col>Health_Dept_ID</th><th scope=col>Permit_No</th><th scope=col>Water_Sample_Date</th><th scope=col>Casing_Depth</th><th scope=col>Well_Depth</th><th scope=col>Static_Water_Depth</th><th scope=col>Flow_Rate</th><th scope=col>pH</th><th scope=col>Metal</th><th scope=col>Concentration</th><th scope=col>Detect_Concentration</th></tr>\n",
       "\t<tr><th></th><th scope=col>&lt;chr&gt;</th><th scope=col>&lt;dbl&gt;</th><th scope=col>&lt;chr&gt;</th><th scope=col>&lt;chr&gt;</th><th scope=col>&lt;dbl&gt;</th><th scope=col>&lt;dbl&gt;</th><th scope=col>&lt;dbl&gt;</th><th scope=col>&lt;dbl&gt;</th><th scope=col>&lt;dbl&gt;</th><th scope=col>&lt;chr&gt;</th><th scope=col>&lt;dbl&gt;</th><th scope=col>&lt;chr&gt;</th></tr>\n",
       "</thead>\n",
       "<tbody>\n",
       "\t<tr><th scope=row>1</th><td>1006004</td><td> 960</td><td>12-155</td><td>9/24/12 </td><td>52</td><td>165</td><td>41</td><td>60.0</td><td>7.7</td><td>Ar</td><td>NA</td><td>ND</td></tr>\n",
       "\t<tr><th scope=row>2</th><td>1024009</td><td>1803</td><td>15-177</td><td>12/17/15</td><td>40</td><td>445</td><td>42</td><td> 2.0</td><td>7.3</td><td>Ar</td><td>NA</td><td>ND</td></tr>\n",
       "\t<tr><th scope=row>3</th><td>1054019</td><td>1647</td><td>14-212</td><td>2/2/15  </td><td>45</td><td>160</td><td>40</td><td>40.0</td><td>7.4</td><td>Ar</td><td>NA</td><td>ND</td></tr>\n",
       "\t<tr><th scope=row>4</th><td>1057017</td><td> 970</td><td>12-169</td><td>10/22/12</td><td>42</td><td>440</td><td>57</td><td> 1.5</td><td>8.0</td><td>Ar</td><td>35</td><td>D </td></tr>\n",
       "\t<tr><th scope=row>5</th><td>1060006</td><td> 533</td><td>10-239</td><td>1/3/11  </td><td>48</td><td>120</td><td>42</td><td>25.0</td><td>7.1</td><td>Ar</td><td>NA</td><td>ND</td></tr>\n",
       "\t<tr><th scope=row>6</th><td>1066006</td><td>1795</td><td>15-224</td><td>12/15/15</td><td>60</td><td>280</td><td>32</td><td>10.0</td><td>8.2</td><td>Ar</td><td>53</td><td>D </td></tr>\n",
       "</tbody>\n",
       "</table>\n"
      ],
      "text/latex": [
       "A data.frame: 6 × 12\n",
       "\\begin{tabular}{r|llllllllllll}\n",
       "  & Tax\\_ID & Health\\_Dept\\_ID & Permit\\_No & Water\\_Sample\\_Date & Casing\\_Depth & Well\\_Depth & Static\\_Water\\_Depth & Flow\\_Rate & pH & Metal & Concentration & Detect\\_Concentration\\\\\n",
       "  & <chr> & <dbl> & <chr> & <chr> & <dbl> & <dbl> & <dbl> & <dbl> & <dbl> & <chr> & <dbl> & <chr>\\\\\n",
       "\\hline\n",
       "\t1 & 1006004 &  960 & 12-155 & 9/24/12  & 52 & 165 & 41 & 60.0 & 7.7 & Ar & NA & ND\\\\\n",
       "\t2 & 1024009 & 1803 & 15-177 & 12/17/15 & 40 & 445 & 42 &  2.0 & 7.3 & Ar & NA & ND\\\\\n",
       "\t3 & 1054019 & 1647 & 14-212 & 2/2/15   & 45 & 160 & 40 & 40.0 & 7.4 & Ar & NA & ND\\\\\n",
       "\t4 & 1057017 &  970 & 12-169 & 10/22/12 & 42 & 440 & 57 &  1.5 & 8.0 & Ar & 35 & D \\\\\n",
       "\t5 & 1060006 &  533 & 10-239 & 1/3/11   & 48 & 120 & 42 & 25.0 & 7.1 & Ar & NA & ND\\\\\n",
       "\t6 & 1066006 & 1795 & 15-224 & 12/15/15 & 60 & 280 & 32 & 10.0 & 8.2 & Ar & 53 & D \\\\\n",
       "\\end{tabular}\n"
      ],
      "text/markdown": [
       "\n",
       "A data.frame: 6 × 12\n",
       "\n",
       "| <!--/--> | Tax_ID &lt;chr&gt; | Health_Dept_ID &lt;dbl&gt; | Permit_No &lt;chr&gt; | Water_Sample_Date &lt;chr&gt; | Casing_Depth &lt;dbl&gt; | Well_Depth &lt;dbl&gt; | Static_Water_Depth &lt;dbl&gt; | Flow_Rate &lt;dbl&gt; | pH &lt;dbl&gt; | Metal &lt;chr&gt; | Concentration &lt;dbl&gt; | Detect_Concentration &lt;chr&gt; |\n",
       "|---|---|---|---|---|---|---|---|---|---|---|---|---|\n",
       "| 1 | 1006004 |  960 | 12-155 | 9/24/12  | 52 | 165 | 41 | 60.0 | 7.7 | Ar | NA | ND |\n",
       "| 2 | 1024009 | 1803 | 15-177 | 12/17/15 | 40 | 445 | 42 |  2.0 | 7.3 | Ar | NA | ND |\n",
       "| 3 | 1054019 | 1647 | 14-212 | 2/2/15   | 45 | 160 | 40 | 40.0 | 7.4 | Ar | NA | ND |\n",
       "| 4 | 1057017 |  970 | 12-169 | 10/22/12 | 42 | 440 | 57 |  1.5 | 8.0 | Ar | 35 | D  |\n",
       "| 5 | 1060006 |  533 | 10-239 | 1/3/11   | 48 | 120 | 42 | 25.0 | 7.1 | Ar | NA | ND |\n",
       "| 6 | 1066006 | 1795 | 15-224 | 12/15/15 | 60 | 280 | 32 | 10.0 | 8.2 | Ar | 53 | D  |\n",
       "\n"
      ],
      "text/plain": [
       "  Tax_ID  Health_Dept_ID Permit_No Water_Sample_Date Casing_Depth Well_Depth\n",
       "1 1006004  960           12-155    9/24/12           52           165       \n",
       "2 1024009 1803           15-177    12/17/15          40           445       \n",
       "3 1054019 1647           14-212    2/2/15            45           160       \n",
       "4 1057017  970           12-169    10/22/12          42           440       \n",
       "5 1060006  533           10-239    1/3/11            48           120       \n",
       "6 1066006 1795           15-224    12/15/15          60           280       \n",
       "  Static_Water_Depth Flow_Rate pH  Metal Concentration Detect_Concentration\n",
       "1 41                 60.0      7.7 Ar    NA            ND                  \n",
       "2 42                  2.0      7.3 Ar    NA            ND                  \n",
       "3 40                 40.0      7.4 Ar    NA            ND                  \n",
       "4 57                  1.5      8.0 Ar    35            D                   \n",
       "5 42                 25.0      7.1 Ar    NA            ND                  \n",
       "6 32                 10.0      8.2 Ar    53            D                   "
      ]
     },
     "metadata": {},
     "output_type": "display_data"
    }
   ],
   "source": [
    "#imputing cols 5-9 using RF\n",
    "random_forest_imputation = function(dataset){\n",
    "    \n",
    "    imputed_RF_object = missForest(as.matrix(dataset[,5:9]))\n",
    "    imputed_RF_df = imputed_RF_object$ximp\n",
    "    imputed_final_df = data.frame(cbind(dataset[,1:4], imputed_RF_df, dataset[,10:12])) \n",
    "    \n",
    "    return(imputed_final_df)\n",
    "}\n",
    "\n",
    "# calling fn\n",
    "rf_imputed_arsenic_df = random_forest_imputation(arsenic_df)\n",
    "rf_imputed_chromium_df = random_forest_imputation(chromium_df)\n",
    "rf_imputed_manganese_df = random_forest_imputation(manganese_df)\n",
    "\n",
    "head(rf_imputed_arsenic_df)"
   ]
  },
  {
   "cell_type": "markdown",
   "id": "a68cbff3",
   "metadata": {},
   "source": [
    "# QRILC Imputation"
   ]
  },
  {
   "cell_type": "code",
   "execution_count": 5,
   "id": "03e10e37",
   "metadata": {},
   "outputs": [],
   "source": [
    "# QRILC\n",
    "QRILC_imputation = function(dataset){\n",
    "    # \"\"\"\n",
    "    # Creating a function to generate missing data\n",
    "    # :param (input): df with missing data\n",
    "    # :output: 1 imputed df\n",
    "    # \"\"\"\n",
    "  \n",
    "    # normalizing data since that's what the QRILC function wants\n",
    "    # ended up imputing another col (health dept id), since this function needs > 1 col to impute\n",
    "    QRILC_prep = dataset[,c(2,11)] %>%\n",
    "         mutate_all(., function(x) log2(x)) %>%\n",
    "         as.matrix()\n",
    "\n",
    "    imputed_QRILC_object = impute.QRILC(QRILC_prep, tune.sigma = 0.1)\n",
    "    QRILC_log2_df = data.frame(imputed_QRILC_object[1]) \n",
    "    \n",
    "    # converting back the original scale\n",
    "    QRILC_df = QRILC_log2_df %>%\n",
    "        mutate_all(., function(x) 2^x)\n",
    "    \n",
    "    # adding back in ID col\n",
    "    QRILC_df = data.frame(cbind(dataset[,1:10], QRILC_df[,2], dataset[,12]))\n",
    "    colnames(QRILC_df)[11:12] = c(\"Concentration\", \"Detect_Concentration\")\n",
    "\n",
    "\n",
    "   return(QRILC_df)\n",
    "}\n",
    "\n",
    "# calling fn\n",
    "imputed_arsenic_df = QRILC_imputation(rf_imputed_arsenic_df)\n",
    "imputed_chromium_df = QRILC_imputation(rf_imputed_chromium_df)\n",
    "imputed_manganese_df = QRILC_imputation(rf_imputed_manganese_df)"
   ]
  },
  {
   "cell_type": "code",
   "execution_count": 6,
   "id": "c98a4f84",
   "metadata": {},
   "outputs": [
    {
     "data": {
      "text/html": [
       "<table class=\"dataframe\">\n",
       "<caption>A data.frame: 6 × 12</caption>\n",
       "<thead>\n",
       "\t<tr><th></th><th scope=col>Tax_ID</th><th scope=col>Health_Dept_ID</th><th scope=col>Permit_No</th><th scope=col>Water_Sample_Date</th><th scope=col>Casing_Depth</th><th scope=col>Well_Depth</th><th scope=col>Static_Water_Depth</th><th scope=col>Flow_Rate</th><th scope=col>pH</th><th scope=col>Metal</th><th scope=col>Concentration</th><th scope=col>Detect_Concentration</th></tr>\n",
       "\t<tr><th></th><th scope=col>&lt;chr&gt;</th><th scope=col>&lt;dbl&gt;</th><th scope=col>&lt;chr&gt;</th><th scope=col>&lt;chr&gt;</th><th scope=col>&lt;dbl&gt;</th><th scope=col>&lt;dbl&gt;</th><th scope=col>&lt;dbl&gt;</th><th scope=col>&lt;dbl&gt;</th><th scope=col>&lt;dbl&gt;</th><th scope=col>&lt;chr&gt;</th><th scope=col>&lt;dbl&gt;</th><th scope=col>&lt;chr&gt;</th></tr>\n",
       "</thead>\n",
       "<tbody>\n",
       "\t<tr><th scope=row>1</th><td>1006004</td><td> 960</td><td>12-155</td><td>9/24/12 </td><td>52</td><td>165</td><td>41</td><td>60.0</td><td>7.7</td><td>Ar</td><td> 1.960495</td><td>ND</td></tr>\n",
       "\t<tr><th scope=row>2</th><td>1024009</td><td>1803</td><td>15-177</td><td>12/17/15</td><td>40</td><td>445</td><td>42</td><td> 2.0</td><td>7.3</td><td>Ar</td><td> 1.600591</td><td>ND</td></tr>\n",
       "\t<tr><th scope=row>3</th><td>1054019</td><td>1647</td><td>14-212</td><td>2/2/15  </td><td>45</td><td>160</td><td>40</td><td>40.0</td><td>7.4</td><td>Ar</td><td> 2.124865</td><td>ND</td></tr>\n",
       "\t<tr><th scope=row>4</th><td>1057017</td><td> 970</td><td>12-169</td><td>10/22/12</td><td>42</td><td>440</td><td>57</td><td> 1.5</td><td>8.0</td><td>Ar</td><td>35.000000</td><td>D </td></tr>\n",
       "\t<tr><th scope=row>5</th><td>1060006</td><td> 533</td><td>10-239</td><td>1/3/11  </td><td>48</td><td>120</td><td>42</td><td>25.0</td><td>7.1</td><td>Ar</td><td> 1.334024</td><td>ND</td></tr>\n",
       "\t<tr><th scope=row>6</th><td>1066006</td><td>1795</td><td>15-224</td><td>12/15/15</td><td>60</td><td>280</td><td>32</td><td>10.0</td><td>8.2</td><td>Ar</td><td>53.000000</td><td>D </td></tr>\n",
       "</tbody>\n",
       "</table>\n"
      ],
      "text/latex": [
       "A data.frame: 6 × 12\n",
       "\\begin{tabular}{r|llllllllllll}\n",
       "  & Tax\\_ID & Health\\_Dept\\_ID & Permit\\_No & Water\\_Sample\\_Date & Casing\\_Depth & Well\\_Depth & Static\\_Water\\_Depth & Flow\\_Rate & pH & Metal & Concentration & Detect\\_Concentration\\\\\n",
       "  & <chr> & <dbl> & <chr> & <chr> & <dbl> & <dbl> & <dbl> & <dbl> & <dbl> & <chr> & <dbl> & <chr>\\\\\n",
       "\\hline\n",
       "\t1 & 1006004 &  960 & 12-155 & 9/24/12  & 52 & 165 & 41 & 60.0 & 7.7 & Ar &  1.960495 & ND\\\\\n",
       "\t2 & 1024009 & 1803 & 15-177 & 12/17/15 & 40 & 445 & 42 &  2.0 & 7.3 & Ar &  1.600591 & ND\\\\\n",
       "\t3 & 1054019 & 1647 & 14-212 & 2/2/15   & 45 & 160 & 40 & 40.0 & 7.4 & Ar &  2.124865 & ND\\\\\n",
       "\t4 & 1057017 &  970 & 12-169 & 10/22/12 & 42 & 440 & 57 &  1.5 & 8.0 & Ar & 35.000000 & D \\\\\n",
       "\t5 & 1060006 &  533 & 10-239 & 1/3/11   & 48 & 120 & 42 & 25.0 & 7.1 & Ar &  1.334024 & ND\\\\\n",
       "\t6 & 1066006 & 1795 & 15-224 & 12/15/15 & 60 & 280 & 32 & 10.0 & 8.2 & Ar & 53.000000 & D \\\\\n",
       "\\end{tabular}\n"
      ],
      "text/markdown": [
       "\n",
       "A data.frame: 6 × 12\n",
       "\n",
       "| <!--/--> | Tax_ID &lt;chr&gt; | Health_Dept_ID &lt;dbl&gt; | Permit_No &lt;chr&gt; | Water_Sample_Date &lt;chr&gt; | Casing_Depth &lt;dbl&gt; | Well_Depth &lt;dbl&gt; | Static_Water_Depth &lt;dbl&gt; | Flow_Rate &lt;dbl&gt; | pH &lt;dbl&gt; | Metal &lt;chr&gt; | Concentration &lt;dbl&gt; | Detect_Concentration &lt;chr&gt; |\n",
       "|---|---|---|---|---|---|---|---|---|---|---|---|---|\n",
       "| 1 | 1006004 |  960 | 12-155 | 9/24/12  | 52 | 165 | 41 | 60.0 | 7.7 | Ar |  1.960495 | ND |\n",
       "| 2 | 1024009 | 1803 | 15-177 | 12/17/15 | 40 | 445 | 42 |  2.0 | 7.3 | Ar |  1.600591 | ND |\n",
       "| 3 | 1054019 | 1647 | 14-212 | 2/2/15   | 45 | 160 | 40 | 40.0 | 7.4 | Ar |  2.124865 | ND |\n",
       "| 4 | 1057017 |  970 | 12-169 | 10/22/12 | 42 | 440 | 57 |  1.5 | 8.0 | Ar | 35.000000 | D  |\n",
       "| 5 | 1060006 |  533 | 10-239 | 1/3/11   | 48 | 120 | 42 | 25.0 | 7.1 | Ar |  1.334024 | ND |\n",
       "| 6 | 1066006 | 1795 | 15-224 | 12/15/15 | 60 | 280 | 32 | 10.0 | 8.2 | Ar | 53.000000 | D  |\n",
       "\n"
      ],
      "text/plain": [
       "  Tax_ID  Health_Dept_ID Permit_No Water_Sample_Date Casing_Depth Well_Depth\n",
       "1 1006004  960           12-155    9/24/12           52           165       \n",
       "2 1024009 1803           15-177    12/17/15          40           445       \n",
       "3 1054019 1647           14-212    2/2/15            45           160       \n",
       "4 1057017  970           12-169    10/22/12          42           440       \n",
       "5 1060006  533           10-239    1/3/11            48           120       \n",
       "6 1066006 1795           15-224    12/15/15          60           280       \n",
       "  Static_Water_Depth Flow_Rate pH  Metal Concentration Detect_Concentration\n",
       "1 41                 60.0      7.7 Ar     1.960495     ND                  \n",
       "2 42                  2.0      7.3 Ar     1.600591     ND                  \n",
       "3 40                 40.0      7.4 Ar     2.124865     ND                  \n",
       "4 57                  1.5      8.0 Ar    35.000000     D                   \n",
       "5 42                 25.0      7.1 Ar     1.334024     ND                  \n",
       "6 32                 10.0      8.2 Ar    53.000000     D                   "
      ]
     },
     "metadata": {},
     "output_type": "display_data"
    }
   ],
   "source": [
    "# combining in 1 df\n",
    "imputed_df = rbind(imputed_arsenic_df, imputed_chromium_df, imputed_manganese_df)\n",
    "head(imputed_df)"
   ]
  },
  {
   "cell_type": "code",
   "execution_count": 7,
   "id": "a7a991d8",
   "metadata": {},
   "outputs": [],
   "source": [
    "# exporting results\n",
    "write.xlsx(imputed_df, paste0(Output,\"/\", \"Imputed_Well_Data_\", cur_date, \".xlsx\"), rowNames = FALSE)"
   ]
  },
  {
   "cell_type": "code",
   "execution_count": null,
   "id": "90fd60c3",
   "metadata": {},
   "outputs": [],
   "source": []
  }
 ],
 "metadata": {
  "kernelspec": {
   "display_name": "R",
   "language": "R",
   "name": "ir"
  },
  "language_info": {
   "codemirror_mode": "r",
   "file_extension": ".r",
   "mimetype": "text/x-r-source",
   "name": "R",
   "pygments_lexer": "r",
   "version": "4.1.3"
  }
 },
 "nbformat": 4,
 "nbformat_minor": 5
}
